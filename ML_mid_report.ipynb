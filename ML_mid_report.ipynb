{
 "cells": [
  {
   "cell_type": "markdown",
   "metadata": {
    "colab_type": "text",
    "id": "wum7nouFy8Io"
   },
   "source": [
    "### No9\n",
    "1. Specify the dataset used here. You need to declare the URL.  \n",
    " **toy data from sikit learn**\n",
    "2. Declare the machine learning problem (such as regression, and classification)  \n",
    " **classification**\n",
    "3. Declare the machine learning algorithms you employ here. Pick up at least three algorithms\n",
    "and explain the reason(s) why you choose the three algorithms among so many candidates.  \n",
    "　**Logit, Ridge, DecisionTree　**\n",
    "4. Declare the software libraries you employ here.  \n",
    "**sikit learn **  \n",
    "\n",
    "5. Report the result of the machine learning among three algorithms you employ here. It\n",
    "should be noted that you have to take care of the way of performance evaluation  \n",
    "**CV , feature select**\n"
   ]
  },
  {
   "cell_type": "code",
   "execution_count": 26,
   "metadata": {
    "scrolled": true
   },
   "outputs": [
    {
     "name": "stdout",
     "output_type": "stream",
     "text": [
      "DecisionTreeClassifier : 0.932\n",
      "LogisticRegression : 0.953\n",
      "RidgeClassifier : 0.960\n"
     ]
    }
   ],
   "source": [
    "\n",
    "import numpy as np\n",
    "from sklearn.datasets import load_breast_cancer\n",
    "from sklearn import linear_model\n",
    "from sklearn import svm\n",
    "from sklearn.tree import DecisionTreeClassifier\n",
    "from sklearn.model_selection import cross_val_score\n",
    "from sklearn.pipeline import Pipeline\n",
    "from sklearn.feature_selection import SelectPercentile, f_regression\n",
    "\n",
    "\n",
    "\n",
    "cancer = load_breast_cancer()\n",
    "X = cancer.data\n",
    "y = cancer.target\n",
    "\n",
    "\"\"\"\n",
    "#特徴量選定\n",
    "selector = SelectPercentile( score_func = f_regression, percentile = 30)\n",
    "selector.fit(X, y)\n",
    "X = selector.transform(X)\n",
    "\"\"\"\n",
    "\n",
    "\n",
    "logit = linear_model.LogisticRegression()\n",
    "ridge = linear_model.RidgeClassifier()\n",
    "tree = DecisionTreeClassifier(criterion='entropy',max_depth=3, random_state= 0) \n",
    "\n",
    "\n",
    "for model in [tree, logit,  ridge]:\n",
    "\n",
    "    \n",
    "    \n",
    "    score = cross_val_score( model, X, y, cv = 6)\n",
    "    print( model.__class__.__name__,\": {:.3f}\".format(score.mean()))\n",
    "    "
   ]
  },
  {
   "cell_type": "markdown",
   "metadata": {},
   "source": [
    "### No.5\n",
    "\n",
    "1. Declare machine learning problem within linear binary classification. Use Gaussian kernel\n",
    "for handling nonlinear separation. Specify the loss function, regularization, respectively.  \n",
    " **(you cannnot be changed params below by sklearn)  \n",
    " loss: hinge loss function   \n",
    " regularization: L2　**\n",
    " \n",
    "2. Implement, and run the ml problem as you declare. Compare the performance of the model\n",
    "by modifying the size of n, ˜d < n, and α  \n",
    " **change n for num of input and alpha  , employ grid search and CV **"
   ]
  },
  {
   "cell_type": "code",
   "execution_count": 78,
   "metadata": {
    "scrolled": true
   },
   "outputs": [
    {
     "name": "stdout",
     "output_type": "stream",
     "text": [
      "n:20, gamma:6.734 ,best score:0.650\n",
      "n:30, gamma:4.229 ,best score:0.800\n",
      "n:40, gamma:39.442 ,best score:0.750\n",
      "n:50, gamma:17.074 ,best score:0.840\n",
      "n:60, gamma:1.262 ,best score:0.800\n",
      "n:70, gamma:2.915 ,best score:0.786\n",
      "n:80, gamma:2.009 ,best score:0.800\n",
      "n:90, gamma:8.111 ,best score:0.933\n",
      "n:100, gamma:4.642 ,best score:0.860\n",
      "n:110, gamma:2.915 ,best score:0.882\n",
      "n:120, gamma:11.768 ,best score:0.792\n",
      "n:130, gamma:8.902 ,best score:0.892\n",
      "n:140, gamma:2.656 ,best score:0.900\n",
      "n:150, gamma:3.511 ,best score:0.880\n",
      "n:160, gamma:4.229 ,best score:0.912\n",
      "n:170, gamma:6.734 ,best score:0.929\n",
      "n:180, gamma:3.511 ,best score:0.883\n",
      "n:190, gamma:10.723 ,best score:0.874\n",
      "n:200, gamma:2.420 ,best score:0.890\n"
     ]
    },
    {
     "name": "stderr",
     "output_type": "stream",
     "text": [
      "/usr/local/lib/python3.6/site-packages/sklearn/model_selection/_search.py:761: DeprecationWarning: The grid_scores_ attribute was deprecated in version 0.18 in favor of the more elaborate cv_results_ attribute. The grid_scores_ attribute will not be available from 0.20\n",
      "  DeprecationWarning)\n"
     ]
    }
   ],
   "source": [
    "\n",
    "import numpy as np\n",
    "from numpy.random import *\n",
    "import matplotlib.pyplot as plt\n",
    "from sklearn.model_selection import GridSearchCV, train_test_split\n",
    "from sklearn.svm import SVC\n",
    "from sklearn.pipeline import Pipeline\n",
    "from sklearn.decomposition import PCA\n",
    "\n",
    "seed(5)\n",
    "\n",
    "def input(n):\n",
    "    \n",
    "    \"\"\"\n",
    "    toy data 1 for python\n",
    "    \"\"\"\n",
    "\n",
    "    x = 3 * (rand( n, 2) - 0.5)\n",
    "    #np.cov(x.T)\n",
    "    #print( x)\n",
    "    radius = [x[:,0]**2 + x[:,1]**2]\n",
    "    y = 2 * ( (radius > 0.7 + 0.1 * randn(n)) & (radius < 2.2 + 0.1 * randn(n))) - 1\n",
    "\n",
    "    \"\"\"\n",
    "    y1 = [i for i in range(n) if y[0,i] == 1]\n",
    "    y2 = [i for i in range(n) if y[0,i] == -1]\n",
    "    \n",
    "    plt.scatter(x[y1,0], x[y1,1], color = 'r')\n",
    "    plt.scatter(x[y2,0], x[y2,1], color = 'b')\n",
    "    \"\"\"\n",
    "    \n",
    "    \n",
    "    return x, y \n",
    "\n",
    "\n",
    "\n",
    "    \n",
    "if __name__ == '__main__':\n",
    "    \n",
    "    params = [{ 'gamma':np.logspace(-2, 2, 100)}]\n",
    "    n = []\n",
    "    gamma_200 = []\n",
    "    score = []\n",
    "    score_200 = []\n",
    "    for i in range(20,210,10):\n",
    "\n",
    "        data = input(i)\n",
    "\n",
    "        X = data[0]\n",
    "        y = np.reshape(data[1].T, (-1))\n",
    "\n",
    "        #print(X.shape,y.shape)\n",
    "        \n",
    "        model = SVC( kernel = \"rbf\", C = 1)\n",
    "        #estimators = [ (\"pca\", pca), (\"svm\",model)]\n",
    "        \n",
    "        clf = GridSearchCV( model, params, cv = 6)\n",
    "        clf.fit(X, y)\n",
    "        print( \"n:{}, gamma:{:.3f} ,best score:{:.3f}\".format(i,clf.best_estimator_.gamma, clf.best_score_))\n",
    "        np.array(n.append(i))\n",
    "        np.array(score.append(clf.best_score_))\n",
    "        \n",
    "        if i == 200:\n",
    "            for params, mean_score, scores in clf.grid_scores_:\n",
    "                gamma_200.append(params)\n",
    "                score_200.append(mean_score)"
   ]
  },
  {
   "cell_type": "code",
   "execution_count": 79,
   "metadata": {
    "collapsed": true
   },
   "outputs": [
    {
     "name": "stdout",
     "output_type": "stream",
     "text": [
      "[0.57, 0.57, 0.57, 0.57, 0.57, 0.57, 0.57, 0.57, 0.57, 0.57, 0.57, 0.57, 0.57, 0.57, 0.57, 0.57, 0.57, 0.57, 0.57, 0.57, 0.57, 0.57, 0.57, 0.57, 0.57, 0.57, 0.57, 0.565, 0.56, 0.56, 0.56, 0.555, 0.555, 0.555, 0.54, 0.545, 0.57, 0.595, 0.64, 0.66, 0.735, 0.785, 0.805, 0.815, 0.82, 0.83, 0.83, 0.835, 0.845, 0.85, 0.86, 0.86, 0.87, 0.875, 0.865, 0.87, 0.88, 0.88, 0.885, 0.89, 0.885, 0.89, 0.885, 0.88, 0.89, 0.89, 0.885, 0.885, 0.88, 0.88, 0.87, 0.865, 0.87, 0.875, 0.88, 0.88, 0.885, 0.885, 0.885, 0.885, 0.88, 0.875, 0.865, 0.865, 0.86, 0.865, 0.87, 0.865, 0.86, 0.86, 0.85, 0.85, 0.855, 0.85, 0.815, 0.805, 0.785, 0.77, 0.77, 0.76]\n",
      "         gamma\n",
      "0     0.010000\n",
      "1     0.010975\n",
      "2     0.012045\n",
      "3     0.013219\n",
      "4     0.014508\n",
      "5     0.015923\n",
      "6     0.017475\n",
      "7     0.019179\n",
      "8     0.021049\n",
      "9     0.023101\n",
      "10    0.025354\n",
      "11    0.027826\n",
      "12    0.030539\n",
      "13    0.033516\n",
      "14    0.036784\n",
      "15    0.040370\n",
      "16    0.044306\n",
      "17    0.048626\n",
      "18    0.053367\n",
      "19    0.058570\n",
      "20    0.064281\n",
      "21    0.070548\n",
      "22    0.077426\n",
      "23    0.084975\n",
      "24    0.093260\n",
      "25    0.102353\n",
      "26    0.112332\n",
      "27    0.123285\n",
      "28    0.135305\n",
      "29    0.148497\n",
      "..         ...\n",
      "70    6.734151\n",
      "71    7.390722\n",
      "72    8.111308\n",
      "73    8.902151\n",
      "74    9.770100\n",
      "75   10.722672\n",
      "76   11.768120\n",
      "77   12.915497\n",
      "78   14.174742\n",
      "79   15.556761\n",
      "80   17.073526\n",
      "81   18.738174\n",
      "82   20.565123\n",
      "83   22.570197\n",
      "84   24.770764\n",
      "85   27.185882\n",
      "86   29.836472\n",
      "87   32.745492\n",
      "88   35.938137\n",
      "89   39.442061\n",
      "90   43.287613\n",
      "91   47.508102\n",
      "92   52.140083\n",
      "93   57.223677\n",
      "94   62.802914\n",
      "95   68.926121\n",
      "96   75.646333\n",
      "97   83.021757\n",
      "98   91.116276\n",
      "99  100.000000\n",
      "\n",
      "[100 rows x 1 columns]\n"
     ]
    }
   ],
   "source": [
    "import pandas as pd\n",
    "print(score_200)\n",
    "\n",
    "df_gamma_200 = pd.DataFrame( gamma_200)\n",
    "print( df_gamma_200)"
   ]
  },
  {
   "cell_type": "code",
   "execution_count": 80,
   "metadata": {},
   "outputs": [
    {
     "data": {
      "image/png": "[encoded data removed]",
      "text/plain": [
       "<matplotlib.figure.Figure at 0x10ad2e470>"
      ]
     },
     "metadata": {},
     "output_type": "display_data"
    },
    {
     "data": {
      "image/png": "[encoded data removed]",
      "text/plain": [
       "<matplotlib.figure.Figure at 0x10af0f668>"
      ]
     },
     "metadata": {},
     "output_type": "display_data"
    }
   ],
   "source": [
    "import seaborn as sns\n",
    "sns.set_style( \"darkgrid\")\n",
    "\n",
    "plt.figure()\n",
    "plt.xlabel( \"n\")\n",
    "plt.ylabel(\"score\")\n",
    "plt.plot( n, score, \"o-\")\n",
    "\n",
    "plt.figure()\n",
    "plt.xlabel(\"α\")\n",
    "plt.ylabel(\"score\")\n",
    "plt.plot(df_gamma_200, score_200)\n",
    "plt.show()"
   ]
  }
 ],
 "metadata": {
  "accelerator": "GPU",
  "colab": {
   "collapsed_sections": [],
   "default_view": {},
   "name": "ML_mid_report.ipynb",
   "provenance": [],
   "version": "0.3.2",
   "views": {}
  },
  "kernelspec": {
   "display_name": "Python 3",
   "language": "python",
   "name": "python3"
  },
  "language_info": {
   "codemirror_mode": {
    "name": "ipython",
    "version": 3
   },
   "file_extension": ".py",
   "mimetype": "text/x-python",
   "name": "python",
   "nbconvert_exporter": "python",
   "pygments_lexer": "ipython3",
   "version": "3.6.5"
  }
 },
 "nbformat": 4,
 "nbformat_minor": 2
}
